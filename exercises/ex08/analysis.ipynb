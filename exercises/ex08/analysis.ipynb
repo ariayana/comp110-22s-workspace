{
 "cells": [
  {
   "cell_type": "markdown",
   "metadata": {},
   "source": [
    "# Analysis for Continuous Improvement\n",
    "\n",
    "Author Name: Ariayana Harrell\n",
    "\n",
    "9-digit PID: 730414608\n",
    "\n",
    "Continuous Improvement embraces a belief there is _always room to make things better_. It is a mindset and process we value and practice in this course. In this assignment, you are able to practice continuous improvement and contribute to the design ideas of the course.\n",
    "\n",
    "## Brainstorming Ideas\n",
    "\n",
    "Reflect on your personal experiences and observations in COMP110 and **brainstorm modifications to the course that _create value_ beyond its current design**. When brainstorming, try not to be critical of the ideas you come up with regarding scale, stakeholders impacted, or for any other reasons. In the markdown cell below, brainstorm 3 to 5 ideas you think would create value for you.\n",
    "\n",
    "Each brainstormed idea should state a. the suggested change or addition, b. what the expected value created, and c. which specific stakeholders would benefit.  If helpful, expand on the following template \"The course should (state idea here) because it will (state value created here) for (insert stakeholders here).\"\n",
    "\n",
    "Example A: \"The course should use only examples from psychology experiments because it will be more relevant for students who are psychology majors.\"\n",
    "\n",
    "Example B: \"The course should not have post-lesson questions because they are not useful for most students in the class.\""
   ]
  },
  {
   "cell_type": "markdown",
   "metadata": {},
   "source": [
    "### Part 1. Creative Ideation\n",
    "\n",
    "1. The course should have a smaller transition from lessons and exercises because it will help those who have never coded before gain a better understanding of the material. I feel that the jump between what we learn and the exercises are big, especially since I have never coded ever.\n",
    "2. The course should include examples from other distinctions because it will allow those who are not a computer science major to see how coding can be related to other majors and careers.\n",
    "3. The course should offer online options for exercise help because it will allow students to get help when they cannot be on campus or are dealing with a family emergency.\n",
    "4. The course should rely less on function writing on quizzes and more about the basics of computer science because those who are not computer science majors may struggle heavily on topics that may not be as useful to them.\n",
    "5. The course should continue to have reading assignments because they offer a realistic insight into how coding can be used for good and bad, and how we can prevent unexpected mistakes from happening."
   ]
  },
  {
   "cell_type": "markdown",
   "metadata": {},
   "source": [
    "## Connecting with Available Data\n",
    "\n",
    "The data you have available for this analysis is limited to the anonymized course survey you and your peers filled out a few weeks ago. The data is found in the `survey.csv` file in this exercise directory. Each row represents an individual survey response. Each column has a description which can be found on the project write-up here: <https://22s.comp110.com/exercises/ex08.html>\n",
    "\n",
    "Review the list of available data and identify which one of your ideas _does not_, or is _least likely to_, have relevant data to support the analysis of your idea to create value. In the box below, identify which of your ideas lacks data and suggest how we might be able to collect this data in the future. One aspect of _continuous improvement_ is trying to avoid \"tunnel vision\" where possible improvements are not considered because there is no data available to analyze it. Identifying new data sources can unlock improvements!"
   ]
  },
  {
   "cell_type": "markdown",
   "metadata": {},
   "source": [
    "### Part 2. Identifying Missing Data\n",
    "\n",
    "1. Idea without sufficient data to analyze: The course should continue to have reading assignments because they offer a realistic insight into how coding can be used for good and bad, and how we can prevent unexpected mistakes from happening.\n",
    "\n",
    "2. Suggestion for how to collect data to support this idea in the future: We can ask students on a scale from 1-5 how effective the reading assignments help them understand computer science as a whole. We could ask them if they like the reading assignments (yes or no scale). We could ask them if they think they would benefit from having more reading assignments and less exercises OR have the reading assignments worth more points."
   ]
  },
  {
   "cell_type": "markdown",
   "metadata": {},
   "source": [
    "## Choosing an Idea to Analyze\n",
    "\n",
    "Consider those of your ideas which _do_ seem likely to have relevant data to analyze. If none of your ideas do, spend a few minutes and brainstorm another idea or two with the added connection of data available on hand and add those ideas to your brainstormed ideas list.\n",
    "\n",
    "Select the one idea which you believe is _most valuable_ to analyze relative to the others and has data to support the analysis of. In the markdown cell for Part 3 below, identify the idea you are exploring and articulate why you believe it is most valuable (e.g. widest impact, biggest opportunity for improvement, simplest change for significant improvement, and so on)."
   ]
  },
  {
   "cell_type": "markdown",
   "metadata": {},
   "source": [
    "### Part 3. Choosing Your Analysis\n",
    "\n",
    "1. Idea to analyze with available data: The course should include examples from other distinctions because it will allow those who are not a computer science major to see how coding can be related to other majors and careers.\n",
    "\n",
    "2. This idea is more valuable than the others brainstormed because: Given the imformation from the survey, we will be able to see the number of computer science and non-computer science majors. By doing this, we will be able to see what examples may be more useful to different majors based on the number of non-computer science majors. This is the most valuable because it will not only make the course more interesting for other classes, but some may even try to integrate coding or utilize coding in their careers where they see fit.\n"
   ]
  },
  {
   "cell_type": "markdown",
   "metadata": {},
   "source": [
    "## Your Analysis\n",
    "\n",
    "Before you begin analysis, a reminder that we do not expect the data to support everyone's ideas and you can complete this exercise for full credit even if the data does not clearly support your suggestion or even completely refutes it. What we are looking for is a logical attempt to explore the data using the techniques you have learned up until now in a way that _either_ supports, refutes, or does not have a clear result and then to reflect on your findings after the analysis.\n",
    "\n",
    "Using the utility functions you created for the previous exercise, you will continue with your analysis in the following part. Before you begin, refer to the rubric on the technical expectations of this section in the exercise write-up.\n",
    "\n",
    "In this section, you are expected to interleave code and markdown cells such that for each step of your analysis you are starting with an English description of what you are planning to do next in a markdown cell, followed by a Python cell that performs that step of the analysis."
   ]
  },
  {
   "cell_type": "markdown",
   "metadata": {},
   "source": [
    "### Part 4. Analysis\n",
    "\n",
    "We begin by changing some settings in the notebook to automatically reload changes to imported files."
   ]
  },
  {
   "cell_type": "code",
   "execution_count": 37,
   "metadata": {},
   "outputs": [],
   "source": [
    "%reload_ext autoreload\n",
    "%autoreload 2"
   ]
  },
  {
   "cell_type": "markdown",
   "metadata": {},
   "source": [
    "We continue by importing the helper functions from `data_utils`."
   ]
  },
  {
   "cell_type": "code",
   "execution_count": 38,
   "metadata": {},
   "outputs": [],
   "source": [
    "from data_utils import read_csv_rows\n",
    "from data_utils import head\n",
    "from data_utils import columnar\n",
    "from data_utils import select\n",
    "from data_utils import count"
   ]
  },
  {
   "cell_type": "markdown",
   "metadata": {},
   "source": [
    "I need to import all of the helper functions that I need, so I can use them later in this Juypter notebook."
   ]
  },
  {
   "cell_type": "markdown",
   "metadata": {},
   "source": [
    "Next, ... (you take it from here and add additional code and markdown cells to read in the CSV file and process it as needed)"
   ]
  },
  {
   "cell_type": "code",
   "execution_count": 39,
   "metadata": {},
   "outputs": [],
   "source": [
    "SURVEY_DATA_CSV_FILE_PATH: str = \"../../data/survey.csv\""
   ]
  },
  {
   "cell_type": "code",
   "execution_count": 40,
   "metadata": {},
   "outputs": [
    {
     "data": {
      "text/plain": [
       "{'primary_major': ['Mathematics',\n",
       "  'Mathematics',\n",
       "  'Computer Science',\n",
       "  'Computer Science',\n",
       "  'Computer Science',\n",
       "  'Computer Science',\n",
       "  'Computer Science',\n",
       "  'Neuroscience',\n",
       "  'Computer Science',\n",
       "  'Neuroscience',\n",
       "  'Computer Science',\n",
       "  'Psychology',\n",
       "  'Neuroscience',\n",
       "  'Environmental Science/Studies',\n",
       "  'Economics',\n",
       "  'Media and Journalism',\n",
       "  'Psychology',\n",
       "  'Mathematics',\n",
       "  'Environmental Science/Studies',\n",
       "  'Computer Science',\n",
       "  'Exercise and Sports Science',\n",
       "  'Biology',\n",
       "  'Psychology',\n",
       "  'Psychology',\n",
       "  'Environmental Science/Studies']}"
      ]
     },
     "execution_count": 40,
     "metadata": {},
     "output_type": "execute_result"
    }
   ],
   "source": [
    "from data_utils import read_csv_rows\n",
    "from data_utils import columnar\n",
    "from data_utils import select\n",
    "from data_utils import count\n",
    "from data_utils import head\n",
    "\n",
    "new_dictionary: dict[str, list[str]] = columnar(read_csv_rows(SURVEY_DATA_CSV_FILE_PATH))\n",
    "result: dict[str, list[str]] = select(new_dictionary,[\"primary_major\"])\n",
    "head(result, 25)\n"
   ]
  },
  {
   "cell_type": "markdown",
   "metadata": {},
   "source": [
    "I wanted this code block and helper functions to read the rows of user input, select the column of majors, and return a column based table of the first 25 survey responses. As I predicted, majority of the responses were computer science majors with various other popular majors like psychology, biologu, mathematics, and environmental science/studies."
   ]
  },
  {
   "cell_type": "code",
   "execution_count": 41,
   "metadata": {},
   "outputs": [
    {
     "name": "stdout",
     "output_type": "stream",
     "text": [
      "{'Mathematics': 10, 'Computer Science': 223, 'Neuroscience': 55, 'Psychology': 70, 'Environmental Science/Studies': 17, 'Economics': 50, 'Media and Journalism': 6, 'Exercise and Sports Science': 3, 'Biology': 60, 'Undecided': 4, 'Asian Studies': 3, 'Information Science': 16, 'Chemistry': 4, 'Communication': 2, 'Political Science': 7, 'Statistics and Analytics': 29, 'Business': 35, 'Advertising and PR': 1, 'English': 1, 'Radiology': 1, 'Linguistics': 1, 'HPM': 1, 'Physics': 2, 'Nursing': 2, 'Peace, War, and Defense': 1, 'Philosophy': 3, 'Clinical Lab Science': 1, 'Music Preformance': 1, 'Medical Anthropology': 2, 'Interdisciplinary Studies': 1, 'Geology': 1, 'Cultural Anthropology': 1, 'Sports Administration': 1, 'Earth Science': 1, 'Studio Art': 1, 'Communications': 2, 'Nutrition': 1}\n"
     ]
    }
   ],
   "source": [
    "major_count: dict[str, int] = count(result[\"primary_major\"])\n",
    "print(major_count)"
   ]
  },
  {
   "cell_type": "markdown",
   "metadata": {},
   "source": [
    "In this code block, I wanted to count the number of students in each major and put them in a new dictionary. As I expected, there are many majors enrolled in this class. This will give us a better idea of what information may be more useful for students in the class."
   ]
  },
  {
   "cell_type": "code",
   "execution_count": 42,
   "metadata": {},
   "outputs": [
    {
     "data": {
      "text/plain": [
       "{'Computer Science': 223,\n",
       " 'Neuroscience': 55,\n",
       " 'Psychology': 70,\n",
       " 'Economics': 50,\n",
       " 'Biology': 60}"
      ]
     },
     "execution_count": 42,
     "metadata": {},
     "output_type": "execute_result"
    }
   ],
   "source": [
    "from data_utils import filter\n",
    "new_dict: dict[str, int] = filter(major_count)\n",
    "new_dict"
   ]
  },
  {
   "cell_type": "markdown",
   "metadata": {},
   "source": [
    "In this code block, I wanted to filter out all the students' majors that have less than 50 people taking this class. This will show us the most popular majors to start out with when we are starting to figure out what examples would be the most helpful to students in this class."
   ]
  },
  {
   "cell_type": "code",
   "execution_count": 51,
   "metadata": {},
   "outputs": [
    {
     "data": {
      "image/png": "[encoded data removed]",
      "text/plain": [
       "<Figure size 864x360 with 1 Axes>"
      ]
     },
     "metadata": {
      "needs_background": "light"
     },
     "output_type": "display_data"
    }
   ],
   "source": [
    "from matplotlib import pyplot as plt\n",
    "\n",
    "fig, axes = plt.subplots(figsize=(12, 5))\n",
    "fig.suptitle(\"Comparing COMPSCI vs. NonCOMPSCI Majors Currently Taking COMP110\")\n",
    "\n",
    "\n",
    "axes.set_title(\"Primary Majors\")\n",
    "axes.bar(new_dict.keys(), new_dict.values())\n",
    "axes.tick_params(axis='x', labelrotation = 45)"
   ]
  },
  {
   "cell_type": "markdown",
   "metadata": {},
   "source": [
    "## Conclusion\n",
    "\n",
    "In the following markdown cell, write a reflective conclusion given the analysis you performed and identify recommendations.\n",
    "\n",
    "If your analysis of the data supports your idea, state your recommendation for the change and summarize the data analysys results you found which support it. Additionally, describe any extensions or refinements to this idea which might be explored further. Finally, discuss the potential costs, trade-offs, or stakeholders who may be negatively impacted by this proposed change.\n",
    "\n",
    "If your analysis of the data is inconclusive, summarize why your data analysis results were inconclusive in the support of your idea. Additionally, describe what experimental idea implementation or additional data collection might help build more confidence in assessing your idea. Finally, discuss the potential costs, trade-offs, or stakeholders who may be negatively impacted by experimenting with your idea.\n",
    "\n",
    "Finally, if your analysis of the data does not support it, summarize your data analysis results and why it refutes your idea. Discuss the potential costs, trade-offs, or stakeholders who may be negatively impacted by this proposed change. If you disagree with the validity of the findings, describe why your idea still makes sense to implement and what alternative data would better support it. If you agree with the validity of the data analysis, describe what alternate ideas or extensions you would explore instead. "
   ]
  },
  {
   "cell_type": "markdown",
   "metadata": {},
   "source": [
    "### Part 5. Conclusion\n",
    "\n"
   ]
  },
  {
   "cell_type": "markdown",
   "metadata": {},
   "source": [
    "I would say my analysis does support my recommendation. I looked at the idea that the course should include examples from other distinctions because it will allow those who are not a computer science major to see how coding can be related to other majors and careers. \n",
    "This is because there are 4 other majors that contributes to a big chunk of the class. Therefore, having more examples that appeal to different majors would help those who are non computer science majors understand coding better and improve their grades. I believe looking at the most popular majors to start exploring other examples is a good start, but as the course goes on, we should also include the outliers (majors with less students taking COMP110), so those students do not feel left out and have an equal opportunity to see examples for their majors. \n",
    "I would say the computer science majors may be at a disadvantage because these examples may not be as direct as what they are used to, but I feel that the prinicples would still be there. Additionally, I think the professors would have a difficult time finding valuble examples from the other majors since they may not be as familiar with the topics of the other majors. "
   ]
  }
 ],
 "metadata": {
  "interpreter": {
   "hash": "aee8b7b246df8f9039afb4144a1f6fd8d2ca17a180786b69acc140d282b71a49"
  },
  "kernelspec": {
   "display_name": "Python 3.10.2 64-bit",
   "language": "python",
   "name": "python3"
  },
  "language_info": {
   "codemirror_mode": {
    "name": "ipython",
    "version": 3
   },
   "file_extension": ".py",
   "mimetype": "text/x-python",
   "name": "python",
   "nbconvert_exporter": "python",
   "pygments_lexer": "ipython3",
   "version": "3.10.1"
  },
  "orig_nbformat": 4
 },
 "nbformat": 4,
 "nbformat_minor": 2
}
